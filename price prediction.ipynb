{
 "cells": [
  {
   "cell_type": "code",
   "execution_count": 1,
   "id": "e9d41474",
   "metadata": {},
   "outputs": [],
   "source": [
    "#importing  "
   ]
  },
  {
   "cell_type": "code",
   "execution_count": 2,
   "id": "3ec483b6",
   "metadata": {},
   "outputs": [],
   "source": [
    "import pandas as pd"
   ]
  },
  {
   "cell_type": "code",
   "execution_count": 4,
   "id": "c2efafe0",
   "metadata": {},
   "outputs": [],
   "source": [
    "import pandas as pd\n",
    "import matplotlib.pyplot as plt\n",
    "import seaborn as sns\n",
    "from sklearn.model_selection import train_test_split\n",
    "from sklearn.linear_model import LinearRegression\n",
    "from sklearn.linear_model import Lasso\n",
    "from sklearn import metrics"
   ]
  },
  {
   "cell_type": "code",
   "execution_count": 5,
   "id": "76b004c7",
   "metadata": {},
   "outputs": [],
   "source": [
    "#csv file"
   ]
  },
  {
   "cell_type": "code",
   "execution_count": 7,
   "id": "b51e3799",
   "metadata": {},
   "outputs": [],
   "source": [
    "csv_dataset = pd.read_csv('C://Users//Pratima//Iccdata.csv')"
   ]
  },
  {
   "cell_type": "code",
   "execution_count": 9,
   "id": "20ce44e7",
   "metadata": {},
   "outputs": [
    {
     "data": {
      "text/html": [
       "<div>\n",
       "<style scoped>\n",
       "    .dataframe tbody tr th:only-of-type {\n",
       "        vertical-align: middle;\n",
       "    }\n",
       "\n",
       "    .dataframe tbody tr th {\n",
       "        vertical-align: top;\n",
       "    }\n",
       "\n",
       "    .dataframe thead th {\n",
       "        text-align: right;\n",
       "    }\n",
       "</style>\n",
       "<table border=\"1\" class=\"dataframe\">\n",
       "  <thead>\n",
       "    <tr style=\"text-align: right;\">\n",
       "      <th></th>\n",
       "      <th>Pos</th>\n",
       "      <th>Team T</th>\n",
       "      <th>Matches M</th>\n",
       "      <th>Points P</th>\n",
       "      <th>Rating R</th>\n",
       "    </tr>\n",
       "  </thead>\n",
       "  <tbody>\n",
       "    <tr>\n",
       "      <th>0</th>\n",
       "      <td>1</td>\n",
       "      <td>India IND</td>\n",
       "      <td>39</td>\n",
       "      <td>10514</td>\n",
       "      <td>270</td>\n",
       "    </tr>\n",
       "    <tr>\n",
       "      <th>1</th>\n",
       "      <td>2</td>\n",
       "      <td>England ENG</td>\n",
       "      <td>31</td>\n",
       "      <td>8192</td>\n",
       "      <td>264</td>\n",
       "    </tr>\n",
       "    <tr>\n",
       "      <th>2</th>\n",
       "      <td>3</td>\n",
       "      <td>Pakistan PAK</td>\n",
       "      <td>30</td>\n",
       "      <td>7826</td>\n",
       "      <td>261</td>\n",
       "    </tr>\n",
       "    <tr>\n",
       "      <th>3</th>\n",
       "      <td>4</td>\n",
       "      <td>South Africa SA</td>\n",
       "      <td>29</td>\n",
       "      <td>7407</td>\n",
       "      <td>255</td>\n",
       "    </tr>\n",
       "    <tr>\n",
       "      <th>4</th>\n",
       "      <td>5</td>\n",
       "      <td>New Zealand NZ</td>\n",
       "      <td>30</td>\n",
       "      <td>7516</td>\n",
       "      <td>251</td>\n",
       "    </tr>\n",
       "  </tbody>\n",
       "</table>\n",
       "</div>"
      ],
      "text/plain": [
       "   Pos           Team T  Matches M  Points P  Rating R\n",
       "0    1        India IND         39     10514       270\n",
       "1    2      England ENG         31      8192       264\n",
       "2    3     Pakistan PAK         30      7826       261\n",
       "3    4  South Africa SA         29      7407       255\n",
       "4    5   New Zealand NZ         30      7516       251"
      ]
     },
     "execution_count": 9,
     "metadata": {},
     "output_type": "execute_result"
    }
   ],
   "source": [
    "csv_dataset.head()"
   ]
  },
  {
   "cell_type": "code",
   "execution_count": 10,
   "id": "a3657a21",
   "metadata": {},
   "outputs": [],
   "source": [
    "#rows and columns"
   ]
  },
  {
   "cell_type": "code",
   "execution_count": 11,
   "id": "939bdb1b",
   "metadata": {},
   "outputs": [
    {
     "data": {
      "text/plain": [
       "(77, 5)"
      ]
     },
     "execution_count": 11,
     "metadata": {},
     "output_type": "execute_result"
    }
   ],
   "source": [
    "csv_dataset.shape"
   ]
  },
  {
   "cell_type": "code",
   "execution_count": 12,
   "id": "2053f61f",
   "metadata": {},
   "outputs": [],
   "source": [
    "#info"
   ]
  },
  {
   "cell_type": "code",
   "execution_count": 13,
   "id": "8c74df12",
   "metadata": {},
   "outputs": [
    {
     "name": "stdout",
     "output_type": "stream",
     "text": [
      "<class 'pandas.core.frame.DataFrame'>\n",
      "RangeIndex: 77 entries, 0 to 76\n",
      "Data columns (total 5 columns):\n",
      " #   Column     Non-Null Count  Dtype \n",
      "---  ------     --------------  ----- \n",
      " 0   Pos        77 non-null     int64 \n",
      " 1   Team T     77 non-null     object\n",
      " 2   Matches M  77 non-null     int64 \n",
      " 3   Points P   77 non-null     int64 \n",
      " 4   Rating R   77 non-null     int64 \n",
      "dtypes: int64(4), object(1)\n",
      "memory usage: 3.1+ KB\n"
     ]
    }
   ],
   "source": [
    "csv_dataset.info()"
   ]
  },
  {
   "cell_type": "code",
   "execution_count": 14,
   "id": "15bace7d",
   "metadata": {},
   "outputs": [],
   "source": [
    "#missing values "
   ]
  },
  {
   "cell_type": "code",
   "execution_count": 17,
   "id": "d5e2294b",
   "metadata": {},
   "outputs": [
    {
     "data": {
      "text/plain": [
       "Pos          0\n",
       "Team T       0\n",
       "Matches M    0\n",
       "Points P     0\n",
       "Rating R     0\n",
       "dtype: int64"
      ]
     },
     "execution_count": 17,
     "metadata": {},
     "output_type": "execute_result"
    }
   ],
   "source": [
    "csv_dataset.isnull().sum()"
   ]
  },
  {
   "cell_type": "code",
   "execution_count": 22,
   "id": "53460181",
   "metadata": {},
   "outputs": [],
   "source": [
    "X = csv_dataset.drop(['Team T','Rating R'],axis=1) \n",
    "Y = csv_dataset['Rating R']"
   ]
  },
  {
   "cell_type": "code",
   "execution_count": 23,
   "id": "6f75046d",
   "metadata": {},
   "outputs": [
    {
     "name": "stdout",
     "output_type": "stream",
     "text": [
      "    Pos  Matches M  Points P\n",
      "0     1         39     10514\n",
      "1     2         31      8192\n",
      "2     3         30      7826\n",
      "3     4         29      7407\n",
      "4     5         30      7516\n",
      "..  ...        ...       ...\n",
      "72   73          6         0\n",
      "73   74         10         0\n",
      "74   75          6         0\n",
      "75   76          6         0\n",
      "76   77          8         0\n",
      "\n",
      "[77 rows x 3 columns]\n"
     ]
    }
   ],
   "source": [
    "print(X)"
   ]
  },
  {
   "cell_type": "code",
   "execution_count": 24,
   "id": "56133ad1",
   "metadata": {},
   "outputs": [
    {
     "name": "stdout",
     "output_type": "stream",
     "text": [
      "0     270\n",
      "1     264\n",
      "2     261\n",
      "3     255\n",
      "4     251\n",
      "     ... \n",
      "72      0\n",
      "73      0\n",
      "74      0\n",
      "75      0\n",
      "76      0\n",
      "Name: Rating R, Length: 77, dtype: int64\n"
     ]
    }
   ],
   "source": [
    "print(Y)"
   ]
  },
  {
   "cell_type": "code",
   "execution_count": 25,
   "id": "9285d988",
   "metadata": {},
   "outputs": [],
   "source": [
    "X_train,X_test,Y_train,Y_test = train_test_split(X,Y,test_size = 0.1,random_state =2)"
   ]
  },
  {
   "cell_type": "code",
   "execution_count": 26,
   "id": "8e2a8ee8",
   "metadata": {},
   "outputs": [],
   "source": [
    "#training"
   ]
  },
  {
   "cell_type": "code",
   "execution_count": 27,
   "id": "571e19a9",
   "metadata": {},
   "outputs": [],
   "source": [
    "lin_reg_model = LinearRegression()"
   ]
  },
  {
   "cell_type": "code",
   "execution_count": 28,
   "id": "81432ef9",
   "metadata": {},
   "outputs": [
    {
     "data": {
      "text/plain": [
       "LinearRegression()"
      ]
     },
     "execution_count": 28,
     "metadata": {},
     "output_type": "execute_result"
    }
   ],
   "source": [
    "lin_reg_model.fit(X_train,Y_train)"
   ]
  },
  {
   "cell_type": "code",
   "execution_count": 29,
   "id": "36501472",
   "metadata": {},
   "outputs": [],
   "source": [
    "#prediction"
   ]
  },
  {
   "cell_type": "code",
   "execution_count": 30,
   "id": "45487025",
   "metadata": {},
   "outputs": [],
   "source": [
    "training_data_prediction = lin_reg_model.predict(X_train)"
   ]
  },
  {
   "cell_type": "code",
   "execution_count": 32,
   "id": "fede5231",
   "metadata": {},
   "outputs": [
    {
     "name": "stdout",
     "output_type": "stream",
     "text": [
      "Error Score :  0.9839394515718645\n"
     ]
    }
   ],
   "source": [
    "error_score = metrics.r2_score(Y_train,training_data_prediction)\n",
    "print(\"Error Score : \",error_score)"
   ]
  },
  {
   "cell_type": "code",
   "execution_count": 33,
   "id": "0d5df1e2",
   "metadata": {},
   "outputs": [],
   "source": [
    "#prices"
   ]
  },
  {
   "cell_type": "code",
   "execution_count": 35,
   "id": "1c677922",
   "metadata": {},
   "outputs": [
    {
     "data": {
      "image/png": "[encoded data removed]",
      "text/plain": [
       "<Figure size 432x288 with 1 Axes>"
      ]
     },
     "metadata": {
      "needs_background": "light"
     },
     "output_type": "display_data"
    }
   ],
   "source": [
    "plt.scatter(Y_train,training_data_prediction)\n",
    "plt.xlabel(\"Actual Price\")\n",
    "plt.ylabel(\"Predicted Price\")\n",
    "plt.title(\"Actual vs predicted\")\n",
    "plt.show()"
   ]
  },
  {
   "cell_type": "code",
   "execution_count": 36,
   "id": "e643aa46",
   "metadata": {},
   "outputs": [],
   "source": [
    "#testing\n",
    "test_data_prediction = lin_reg_model.predict(X_test)\n"
   ]
  },
  {
   "cell_type": "code",
   "execution_count": 37,
   "id": "cc12f223",
   "metadata": {},
   "outputs": [
    {
     "name": "stdout",
     "output_type": "stream",
     "text": [
      "Error Score :  0.9939712047590725\n"
     ]
    }
   ],
   "source": [
    "error_score = metrics.r2_score(Y_test,test_data_prediction)\n",
    "print(\"Error Score : \",error_score)"
   ]
  },
  {
   "cell_type": "code",
   "execution_count": 38,
   "id": "5222e7ea",
   "metadata": {},
   "outputs": [
    {
     "data": {
      "image/png": "[encoded data removed]",
      "text/plain": [
       "<Figure size 432x288 with 1 Axes>"
      ]
     },
     "metadata": {
      "needs_background": "light"
     },
     "output_type": "display_data"
    }
   ],
   "source": [
    "plt.scatter(Y_test,test_data_prediction)\n",
    "plt.xlabel(\"Actual Price\")\n",
    "plt.ylabel(\"Predicted Price\")\n",
    "plt.title(\"Actual vs predicted\")\n",
    "plt.show()"
   ]
  },
  {
   "cell_type": "code",
   "execution_count": 39,
   "id": "e387f7f1",
   "metadata": {},
   "outputs": [],
   "source": [
    "#lasso\n",
    "#remaining"
   ]
  },
  {
   "cell_type": "code",
   "execution_count": null,
   "id": "d46200ae",
   "metadata": {},
   "outputs": [],
   "source": []
  }
 ],
 "metadata": {
  "kernelspec": {
   "display_name": "Python 3 (ipykernel)",
   "language": "python",
   "name": "python3"
  },
  "language_info": {
   "codemirror_mode": {
    "name": "ipython",
    "version": 3
   },
   "file_extension": ".py",
   "mimetype": "text/x-python",
   "name": "python",
   "nbconvert_exporter": "python",
   "pygments_lexer": "ipython3",
   "version": "3.9.12"
  }
 },
 "nbformat": 4,
 "nbformat_minor": 5
}
